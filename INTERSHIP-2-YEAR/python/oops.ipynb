{
 "cells": [
  {
   "cell_type": "markdown",
   "id": "10f0e20c",
   "metadata": {},
   "source": [
    "#OOPS"
   ]
  },
  {
   "cell_type": "code",
   "execution_count": 36,
   "id": "afab4820",
   "metadata": {},
   "outputs": [],
   "source": [
    "class classname:\n",
    "    pass"
   ]
  },
  {
   "cell_type": "code",
   "execution_count": 37,
   "id": "4440466f",
   "metadata": {},
   "outputs": [
    {
     "name": "stdout",
     "output_type": "stream",
     "text": [
      "Manish Kumar\n",
      "21\n"
     ]
    }
   ],
   "source": [
    "class Student:  #class name\n",
    "    name =\"Manish Kumar\"\n",
    "    age =21\n",
    "   \n",
    "    \n",
    "st_obj=Student() ##creat object of class\n",
    "print(st_obj.name)\n",
    "print(st_obj.age)\n",
    "    "
   ]
  },
  {
   "cell_type": "code",
   "execution_count": 38,
   "id": "7e5efb9e",
   "metadata": {},
   "outputs": [],
   "source": [
    "class Student:\n",
    "    def set_details(self , name , age , grade):\n",
    "        self.name = name \n",
    "        self.age = age\n",
    "        self.grade = grade\n",
    "        \n",
    "def display(self):\n",
    "    print(f\"hello my name is {self.name} age is {self.age } and grades are {self.grade}\")\n",
    "\n",
    "st_obj=Student()    \n"
   ]
  },
  {
   "cell_type": "markdown",
   "id": "9a408df6",
   "metadata": {},
   "source": [
    "INHERITANCE"
   ]
  },
  {
   "cell_type": "code",
   "execution_count": 39,
   "id": "4f4c756b",
   "metadata": {},
   "outputs": [
    {
     "name": "stdout",
     "output_type": "stream",
     "text": [
      "beta ji ye papa ka h\n"
     ]
    }
   ],
   "source": [
    "#SINGLE LEVEL \n",
    "class Parent:\n",
    "    def parent_method(self):\n",
    "        print(\"beta ji ye papa ka h\")\n",
    "        \n",
    "        \n",
    "class Child(Parent):\n",
    "    def child_method(self):\n",
    "        print(f\"ye child ka h\")\n",
    "    \n",
    "child_obj =Child()\n",
    "child_obj.parent_method()"
   ]
  },
  {
   "cell_type": "code",
   "execution_count": 40,
   "id": "aa024c88",
   "metadata": {},
   "outputs": [],
   "source": [
    "\n",
    "#multple\n",
    "class Parent:\n",
    "    parent_name=\"manish\"\n",
    "class Uncle:\n",
    "    uncle_name=\"karam\"\n",
    "class Child(Parent,Uncle):\n",
    "    child_name=\"rahul\"\n",
    "    \n",
    "obj=Child()"
   ]
  },
  {
   "cell_type": "code",
   "execution_count": 41,
   "id": "42f79200",
   "metadata": {},
   "outputs": [
    {
     "data": {
      "text/plain": [
       "'karam'"
      ]
     },
     "execution_count": 41,
     "metadata": {},
     "output_type": "execute_result"
    }
   ],
   "source": [
    "#multilevel\n",
    "class Grandfather:\n",
    "    Grandfather_name=\"manish\"\n",
    "class Parent(Grandfather):\n",
    "    father=\"karam\"\n",
    "class Child(Parent,Uncle):\n",
    "    child=\"rahul\"\n",
    "    \n",
    "obj=Child()\n",
    "\n",
    "obj.father\n"
   ]
  },
  {
   "cell_type": "code",
   "execution_count": 42,
   "id": "8835810c",
   "metadata": {},
   "outputs": [],
   "source": [
    "# hybrid \n",
    "#hierachical\n",
    "\n",
    "class Parent:\n",
    "    pass\n",
    "class child1:\n",
    "    pass\n",
    "class child2:\n",
    "    pass\n",
    "class family(Parent,child1,child2):\n",
    "    pass\n",
    "fam_obj=family"
   ]
  },
  {
   "cell_type": "code",
   "execution_count": 43,
   "id": "c5c9cc46",
   "metadata": {},
   "outputs": [
    {
     "name": "stdout",
     "output_type": "stream",
     "text": [
      "[1, 2, 3, 4, 2.3]\n",
      "manish\n",
      "5\n"
     ]
    }
   ],
   "source": [
    "#polymorphism\n",
    "\n",
    "lst=[1,2,3,4,2.3]\n",
    "print(lst)\n",
    "name=\"manish\"\n",
    "print(name)\n",
    "len(lst)\n",
    "print(len(lst))"
   ]
  },
  {
   "cell_type": "code",
   "execution_count": 44,
   "id": "dc1224f0",
   "metadata": {},
   "outputs": [
    {
     "name": "stdout",
     "output_type": "stream",
     "text": [
      "[1, 2, 3, 4, 2.3]\n",
      "manish\n",
      "6\n",
      "5\n"
     ]
    }
   ],
   "source": [
    "#polymorphism\n",
    "lst=[1,2,3,4,2.3]\n",
    "name=\"manish\"\n",
    "print(lst)\n",
    "print(name)\n",
    "print(len(name))\n",
    "print(len(lst))"
   ]
  },
  {
   "cell_type": "code",
   "execution_count": 46,
   "id": "87f473be",
   "metadata": {},
   "outputs": [
    {
     "ename": "IndentationError",
     "evalue": "expected an indented block after function definition on line 5 (2626316080.py, line 8)",
     "output_type": "error",
     "traceback": [
      "  \u001b[36mCell\u001b[39m\u001b[36m \u001b[39m\u001b[32mIn[46]\u001b[39m\u001b[32m, line 8\u001b[39m\n\u001b[31m    \u001b[39m\u001b[31mobj.Student_details()\u001b[39m\n                         ^\n\u001b[31mIndentationError\u001b[39m\u001b[31m:\u001b[39m expected an indented block after function definition on line 5\n"
     ]
    }
   ],
   "source": [
    "#abstraction\n",
    "class Student:\n",
    "    def student_details(self):\n",
    "        print(\"hello i am manish\")\n",
    "    def student_details(self,name):\n",
    "        \n",
    "\n",
    "obj.Student_details()"
   ]
  },
  {
   "cell_type": "code",
   "execution_count": 47,
   "id": "91bc9574",
   "metadata": {},
   "outputs": [
    {
     "name": "stdout",
     "output_type": "stream",
     "text": [
      "dog bark\n"
     ]
    }
   ],
   "source": [
    "\n",
    "\n",
    "class Animal:\n",
    "    def sound(self):\n",
    "        print(\"animal sound\")\n",
    "class Dog:\n",
    "    def sound(self):\n",
    "        print(\"dog bark\")\n",
    "        \n",
    "dog_obj=Dog()\n",
    "dog_obj.sound()\n",
    "    \n"
   ]
  },
  {
   "cell_type": "code",
   "execution_count": 49,
   "id": "5cb8c352",
   "metadata": {},
   "outputs": [
    {
     "ename": "SyntaxError",
     "evalue": "expected ':' (3241089878.py, line 8)",
     "output_type": "error",
     "traceback": [
      "  \u001b[36mCell\u001b[39m\u001b[36m \u001b[39m\u001b[32mIn[49]\u001b[39m\u001b[32m, line 8\u001b[39m\n\u001b[31m    \u001b[39m\u001b[31mdef display(self)\u001b[39m\n                     ^\n\u001b[31mSyntaxError\u001b[39m\u001b[31m:\u001b[39m expected ':'\n"
     ]
    }
   ],
   "source": [
    "#constructor\n",
    "\n",
    "class Student:\n",
    "    def __init__(self,name,age):\n",
    "        self.name =name\n",
    "        self.age=age\n",
    "        \n",
    "    def display(self)\n",
    "        print(f\"hello my name is {self.name} age is {self.age}\")\n",
    "        \n",
    "        \n",
    "obj = Student(name=\"manish\",age=\"33\")\n",
    "obj = Student(name=\"man\",age=\"3\")\n",
    "obj.display()"
   ]
  },
  {
   "cell_type": "code",
   "execution_count": null,
   "id": "1cd8e4d0",
   "metadata": {},
   "outputs": [],
   "source": [
    "#encapsulation\n",
    "\n",
    "class Student:\n",
    "    def __init__(self):\n",
    "        self.name=\"manish\"\n",
    "        self._age = 22\n",
    "        self\n",
    "        \n",
    "        "
   ]
  },
  {
   "cell_type": "code",
   "execution_count": null,
   "id": "3189a20c",
   "metadata": {},
   "outputs": [],
   "source": [
    "obj._  "
   ]
  }
 ],
 "metadata": {
  "kernelspec": {
   "display_name": "Python 3",
   "language": "python",
   "name": "python3"
  },
  "language_info": {
   "codemirror_mode": {
    "name": "ipython",
    "version": 3
   },
   "file_extension": ".py",
   "mimetype": "text/x-python",
   "name": "python",
   "nbconvert_exporter": "python",
   "pygments_lexer": "ipython3",
   "version": "3.11.5"
  }
 },
 "nbformat": 4,
 "nbformat_minor": 5
}
