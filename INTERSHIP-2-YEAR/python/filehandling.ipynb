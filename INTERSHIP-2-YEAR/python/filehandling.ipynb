{
 "cells": [
  {
   "cell_type": "markdown",
   "id": "a50c3eae",
   "metadata": {},
   "source": [
    "**FILE HANDLING**\n",
    "\n",
    "| Mode | Description                                                  |\n",
    "|------| ------------------------------------------------------------ |\n",
    "| \"r\"  | Read mode (default), error if file doesn't exist             |\n",
    "| \"w\"  | Write mode, creates a file if not exist, overwrites existing |\n",
    "| \"a\"  | Append mode, adds content to end of file                     |\n",
    "| \"x\"  | Create mode, error if file already exists                    |"
   ]
  },
  {
   "cell_type": "code",
   "execution_count": 3,
   "id": "8089cecb",
   "metadata": {},
   "outputs": [],
   "source": [
    "file = open('demo.txt','r')\n",
    "file.readlines()\n",
    "file.readline()\n",
    "file.close()"
   ]
  },
  {
   "cell_type": "code",
   "execution_count": 4,
   "id": "83b67b70",
   "metadata": {},
   "outputs": [
    {
     "ename": "SyntaxError",
     "evalue": "expected ':' (200048650.py, line 2)",
     "output_type": "error",
     "traceback": [
      "  \u001b[36mCell\u001b[39m\u001b[36m \u001b[39m\u001b[32mIn[4]\u001b[39m\u001b[32m, line 2\u001b[39m\n\u001b[31m    \u001b[39m\u001b[31mwith open(\"demo.txt\",'r')\u001b[39m\n                             ^\n\u001b[31mSyntaxError\u001b[39m\u001b[31m:\u001b[39m expected ':'\n"
     ]
    }
   ],
   "source": [
    "try:\n",
    "    with open(\"demo.txt\",'r')\n",
    "    lines=file.readlines()\n",
    "    print(lines)\n",
    "except FileNotFoundError:\n",
    "    print(\"koni bhaya\")"
   ]
  },
  {
   "cell_type": "code",
   "execution_count": null,
   "id": "c2cd0579",
   "metadata": {},
   "outputs": [],
   "source": [
    "file = open(\"demo.txt\",'w')\n",
    "file.write(\"manish h\")\n",
    "file.close()"
   ]
  },
  {
   "cell_type": "code",
   "execution_count": null,
   "id": "cd067efb",
   "metadata": {},
   "outputs": [],
   "source": [
    "file = open(\"demo.txt\",'r')\n",
    "file.readline()\n",
    "file.close()"
   ]
  },
  {
   "cell_type": "code",
   "execution_count": null,
   "id": "d00121c5",
   "metadata": {},
   "outputs": [],
   "source": [
    "file = open(\"demo.txt\",'a')\n",
    "file.write(\"manish h or m raj se hu\")\n",
    "file.close()"
   ]
  },
  {
   "cell_type": "code",
   "execution_count": null,
   "id": "732c9435",
   "metadata": {},
   "outputs": [
    {
     "data": {
      "text/plain": [
       "''"
      ]
     },
     "execution_count": 18,
     "metadata": {},
     "output_type": "execute_result"
    }
   ],
   "source": [
    "file = open(\"demo.txt\",'r')\n",
    "file.read()\n",
    "file.close()\n"
   ]
  },
  {
   "cell_type": "code",
   "execution_count": 5,
   "id": "f76c41c8",
   "metadata": {},
   "outputs": [
    {
     "data": {
      "text/plain": [
       "'manish h or m raj se humanish h or m raj se hu'"
      ]
     },
     "execution_count": 5,
     "metadata": {},
     "output_type": "execute_result"
    }
   ],
   "source": [
    "file = open(\"newfile22.txt\",'a')\n",
    "file.write(\"manish h or m raj se hu..\")\n",
    "file.close()\n",
    "file =open(\"newfile.txt\",'r')\n",
    "file.read()"
   ]
  },
  {
   "cell_type": "code",
   "execution_count": null,
   "id": "39ab6d0d",
   "metadata": {},
   "outputs": [],
   "source": []
  }
 ],
 "metadata": {
  "kernelspec": {
   "display_name": "Python 3",
   "language": "python",
   "name": "python3"
  },
  "language_info": {
   "codemirror_mode": {
    "name": "ipython",
    "version": 3
   },
   "file_extension": ".py",
   "mimetype": "text/x-python",
   "name": "python",
   "nbconvert_exporter": "python",
   "pygments_lexer": "ipython3",
   "version": "3.11.5"
  }
 },
 "nbformat": 4,
 "nbformat_minor": 5
}
