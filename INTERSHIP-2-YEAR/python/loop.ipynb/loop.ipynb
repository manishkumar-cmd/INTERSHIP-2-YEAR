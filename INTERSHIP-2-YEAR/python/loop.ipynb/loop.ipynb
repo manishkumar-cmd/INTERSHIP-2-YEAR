{
 "cells": [
  {
   "cell_type": "markdown",
   "id": "167caf0d",
   "metadata": {},
   "source": [
    "FOR LOOP"
   ]
  },
  {
   "cell_type": "code",
   "execution_count": 5,
   "id": "00d62d52",
   "metadata": {},
   "outputs": [
    {
     "name": "stdout",
     "output_type": "stream",
     "text": [
      "[1, 2, 3, 4, 5]\n",
      "[1, 2, 3, 4, 5]\n",
      "[1, 2, 3, 4, 5]\n",
      "[1, 2, 3, 4, 5]\n",
      "[1, 2, 3, 4, 5]\n"
     ]
    }
   ],
   "source": [
    "lst =[1,2,3,4,5]\n",
    "for x in lst:\n",
    "    print(lst)\n",
    "    "
   ]
  },
  {
   "cell_type": "code",
   "execution_count": 5,
   "id": "f587ed9b",
   "metadata": {},
   "outputs": [
    {
     "name": "stdout",
     "output_type": "stream",
     "text": [
      "m a n i s h "
     ]
    }
   ],
   "source": [
    "name = \"manish\"\n",
    "for x in name:\n",
    "    print(x,end=(' '))"
   ]
  },
  {
   "cell_type": "code",
   "execution_count": 6,
   "id": "4335b4e0",
   "metadata": {},
   "outputs": [
    {
     "name": "stdout",
     "output_type": "stream",
     "text": [
      "0 2 4 6 8 10 12 14 16 18 20 22 24 26 28 30 32 34 36 38 40 42 44 46 48 50 "
     ]
    }
   ],
   "source": [
    "for number in range(0, 51):\n",
    "    if number % 2 == 0:\n",
    "        print(number,end=' ')"
   ]
  },
  {
   "cell_type": "code",
   "execution_count": 7,
   "id": "8da255c9",
   "metadata": {},
   "outputs": [
    {
     "name": "stdout",
     "output_type": "stream",
     "text": [
      "Number of vowels in the string: 10\n"
     ]
    }
   ],
   "source": [
    "\n",
    "text = \"Hello,i am manish wbt yOu , who r U ?\"\n",
    "vowels = \"aeiouAEIOU\"\n",
    "vowel_count = 0\n",
    "for char in text:\n",
    "    if char in vowels:\n",
    "        vowel_count += 1\n",
    "print(\"Number of vowels in the string:\", vowel_count)"
   ]
  },
  {
   "cell_type": "markdown",
   "id": "d4086025",
   "metadata": {},
   "source": [
    "while loop"
   ]
  },
  {
   "cell_type": "code",
   "execution_count": 8,
   "id": "10577337",
   "metadata": {},
   "outputs": [
    {
     "name": "stdout",
     "output_type": "stream",
     "text": [
      "1 2 3 4 "
     ]
    }
   ],
   "source": [
    "x=1\n",
    "while x<5:\n",
    "    print(x,end=' ')\n",
    "    x+=1"
   ]
  },
  {
   "cell_type": "code",
   "execution_count": 1,
   "id": "77f992f4",
   "metadata": {},
   "outputs": [],
   "source": [
    "# BREAK STATEMENT "
   ]
  },
  {
   "cell_type": "code",
   "execution_count": 2,
   "id": "2619aa49",
   "metadata": {},
   "outputs": [
    {
     "name": "stdout",
     "output_type": "stream",
     "text": [
      "1 2 "
     ]
    }
   ],
   "source": [
    "for x in range(1,6):\n",
    "    if x==3:\n",
    "        break\n",
    "    print(x,end=' ')"
   ]
  },
  {
   "cell_type": "markdown",
   "id": "3046f152",
   "metadata": {},
   "source": [
    "CONTINOUS STATEMENT"
   ]
  },
  {
   "cell_type": "code",
   "execution_count": 3,
   "id": "d902b784",
   "metadata": {},
   "outputs": [
    {
     "name": "stdout",
     "output_type": "stream",
     "text": [
      "1 2 4 5 "
     ]
    }
   ],
   "source": [
    "for x in range(1,6):\n",
    "    if x==3:\n",
    "        continue\n",
    "    print(x,end=' ')"
   ]
  },
  {
   "cell_type": "markdown",
   "id": "8d44d442",
   "metadata": {},
   "source": [
    "LARGEST AMONG THREEE"
   ]
  },
  {
   "cell_type": "code",
   "execution_count": null,
   "id": "9297d045",
   "metadata": {},
   "outputs": [],
   "source": [
    "\n",
    "num1 = float(input(\"Enter first number: \"))\n",
    "num2 = float(input(\"Enter second number: \"))\n",
    "num3 = float(input(\"Enter third number: \"))\n",
    "\n",
    "\n",
    "if (num1 >= num2) and (num1 >= num3):\n",
    "    largest = num1\n",
    "elif (num2 >= num1) and (num2 >= num3):\n",
    "    largest = num2\n",
    "else:\n",
    "    largest = num3\n",
    "\n",
    "\n",
    "print(\"The largest number is:\", largest)\n"
   ]
  },
  {
   "cell_type": "markdown",
   "id": "bbcd1eeb",
   "metadata": {},
   "source": [
    "GRADE ON BASE ON MARKS "
   ]
  },
  {
   "cell_type": "code",
   "execution_count": null,
   "id": "46614348",
   "metadata": {},
   "outputs": [
    {
     "name": "stdout",
     "output_type": "stream",
     "text": [
      "Your grade is: Invalid marks\n"
     ]
    }
   ],
   "source": [
    "marks = int(input(\"Enter your marks (0-100): \"))\n",
    "\n",
    "if marks >= 90 and marks <= 100:\n",
    "    grade = 'A'\n",
    "elif marks >= 80 and marks <= 89:\n",
    "    grade = 'B'\n",
    "elif marks >= 70 and marks <= 79:\n",
    "    grade = 'C'\n",
    "elif marks < 70:\n",
    "    grade = 'Fail'\n",
    "else:\n",
    "    grade = 'Invalid marks'\n",
    "\n",
    "print(\"Your grade is:\", grade)\n"
   ]
  },
  {
   "cell_type": "markdown",
   "id": "5e6f1be6",
   "metadata": {},
   "source": [
    "TO PRINT 0 TO 5 VIA WHILE LOOP"
   ]
  },
  {
   "cell_type": "code",
   "execution_count": null,
   "id": "9e71ce0b",
   "metadata": {},
   "outputs": [
    {
     "name": "stdout",
     "output_type": "stream",
     "text": [
      "0 1 2 3 4 5 "
     ]
    }
   ],
   "source": [
    "i = 0\n",
    "while i <= 5:\n",
    "    print(i, end=' ')\n",
    "    i += 1\n",
    "\n"
   ]
  }
 ],
 "metadata": {
  "kernelspec": {
   "display_name": "Python 3",
   "language": "python",
   "name": "python3"
  },
  "language_info": {
   "codemirror_mode": {
    "name": "ipython",
    "version": 3
   },
   "file_extension": ".py",
   "mimetype": "text/x-python",
   "name": "python",
   "nbconvert_exporter": "python",
   "pygments_lexer": "ipython3",
   "version": "3.11.5"
  }
 },
 "nbformat": 4,
 "nbformat_minor": 5
}
