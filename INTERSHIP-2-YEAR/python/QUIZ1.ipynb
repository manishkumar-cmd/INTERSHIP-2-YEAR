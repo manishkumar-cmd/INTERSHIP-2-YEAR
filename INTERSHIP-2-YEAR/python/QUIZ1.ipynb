{
 "cells": [
  {
   "cell_type": "markdown",
   "id": "dd8e0f02",
   "metadata": {},
   "source": [
    "MANISH KUMAR\n",
    "DATA SCIENCE\n",
    "9680459282\n",
    "SOBHSARIA GROUP OF INSTITUIONS"
   ]
  },
  {
   "cell_type": "code",
   "execution_count": 11,
   "id": "7bec0e97",
   "metadata": {},
   "outputs": [
    {
     "name": "stdout",
     "output_type": "stream",
     "text": [
      "15\n"
     ]
    }
   ],
   "source": [
    "#1\n",
    "class A:\n",
    "    def __init__(self):\n",
    "        self.var = 10\n",
    "\n",
    "class B(A):\n",
    "    def __init__(self):\n",
    "        super().__init__()\n",
    "        self.var += 5\n",
    "\n",
    "obj = B()\n",
    "print(obj.var)"
   ]
  },
  {
   "cell_type": "code",
   "execution_count": null,
   "id": "92d11e15",
   "metadata": {},
   "outputs": [
    {
     "name": "stdout",
     "output_type": "stream",
     "text": [
      "A -> B\n"
     ]
    }
   ],
   "source": [
    "#2\n",
    "class A:\n",
    "    def func(self):\n",
    "        return \"A\"\n",
    "\n",
    "class B(A):\n",
    "    def func(self):\n",
    "        return super().func() + \" -> B\"\n",
    "\n",
    "obj = B()\n",
    "print(obj.func())"
   ]
  },
  {
   "cell_type": "code",
   "execution_count": null,
   "id": "4228e9e7",
   "metadata": {},
   "outputs": [
    {
     "name": "stdout",
     "output_type": "stream",
     "text": [
      "5\n"
     ]
    }
   ],
   "source": [
    "#3\n",
    "class A:\n",
    "    def __init__(self, x):\n",
    "        self.__x = x\n",
    "\n",
    "    def get_x(self):\n",
    "        return self.__x\n",
    "\n",
    "a = A(5)\n",
    "print(a.get_x())"
   ]
  },
  {
   "cell_type": "code",
   "execution_count": null,
   "id": "d665009e",
   "metadata": {},
   "outputs": [
    {
     "name": "stdout",
     "output_type": "stream",
     "text": [
      "Parent\n"
     ]
    }
   ],
   "source": [
    "#4\n",
    "class Parent:\n",
    "    def show(self):\n",
    "        print(\"Parent\")\n",
    "\n",
    "class Child(Parent):\n",
    "    def show(self):\n",
    "        print(\"Child\")\n",
    "\n",
    "obj = Parent()\n",
    "obj.show()"
   ]
  },
  {
   "cell_type": "code",
   "execution_count": null,
   "id": "d19a4a2d",
   "metadata": {},
   "outputs": [
    {
     "name": "stdout",
     "output_type": "stream",
     "text": [
      "No value\n",
      "Value: 10\n"
     ]
    }
   ],
   "source": [
    "#5\n",
    "class A:\n",
    "    def display(self, x=None):\n",
    "        if x:\n",
    "            print(\"Value:\", x)\n",
    "        else:\n",
    "            print(\"No value\")\n",
    "\n",
    "obj = A()\n",
    "obj.display()\n",
    "obj.display(10)"
   ]
  },
  {
   "cell_type": "code",
   "execution_count": null,
   "id": "f1096e5a",
   "metadata": {},
   "outputs": [
    {
     "name": "stdout",
     "output_type": "stream",
     "text": [
      "True\n"
     ]
    }
   ],
   "source": [
    "#6\n",
    "class X:\n",
    "    pass\n",
    "\n",
    "class Y(X):\n",
    "    pass\n",
    "\n",
    "class Z(Y):\n",
    "    pass\n",
    "\n",
    "print(issubclass(Z, X))"
   ]
  },
  {
   "cell_type": "code",
   "execution_count": null,
   "id": "d91433e0",
   "metadata": {},
   "outputs": [
    {
     "name": "stdout",
     "output_type": "stream",
     "text": [
      "Object of A\n"
     ]
    }
   ],
   "source": [
    "#7\n",
    "class A:\n",
    "    def __str__(self):\n",
    "        return \"Object of A\"\n",
    "\n",
    "a = A()\n",
    "print(a)"
   ]
  },
  {
   "cell_type": "code",
   "execution_count": null,
   "id": "3db3b2b7",
   "metadata": {},
   "outputs": [
    {
     "ename": "AttributeError",
     "evalue": "'MyClass' object has no attribute '__my_private_method'",
     "output_type": "error",
     "traceback": [
      "\u001b[31m---------------------------------------------------------------------------\u001b[39m",
      "\u001b[31mAttributeError\u001b[39m                            Traceback (most recent call last)",
      "\u001b[36mCell\u001b[39m\u001b[36m \u001b[39m\u001b[32mIn[18]\u001b[39m\u001b[32m, line 6\u001b[39m\n\u001b[32m      3\u001b[39m         \u001b[38;5;28mprint\u001b[39m(\u001b[33m\"\u001b[39m\u001b[33mPrivate method\u001b[39m\u001b[33m\"\u001b[39m)\n\u001b[32m      5\u001b[39m obj = MyClass()\n\u001b[32m----> \u001b[39m\u001b[32m6\u001b[39m \u001b[43mobj\u001b[49m\u001b[43m.\u001b[49m\u001b[43m__my_private_method\u001b[49m()\n",
      "\u001b[31mAttributeError\u001b[39m: 'MyClass' object has no attribute '__my_private_method'"
     ]
    }
   ],
   "source": [
    "#8\n",
    "class MyClass:\n",
    "    def __my_private_method(self):\n",
    "        print(\"Private method\")\n",
    "\n",
    "obj = MyClass()\n",
    "obj.__my_private_method()"
   ]
  },
  {
   "cell_type": "code",
   "execution_count": null,
   "id": "8388dbc0",
   "metadata": {},
   "outputs": [
    {
     "name": "stdout",
     "output_type": "stream",
     "text": [
      "B\n",
      "A\n"
     ]
    }
   ],
   "source": [
    "#9\n",
    "class A:\n",
    "    def display(self):\n",
    "        print(\"A\")\n",
    "\n",
    "class B(A):\n",
    "    def display(self):\n",
    "        print(\"B\")\n",
    "        super().display()\n",
    "\n",
    "obj = B()\n",
    "obj.display()"
   ]
  },
  {
   "cell_type": "code",
   "execution_count": null,
   "id": "21803dd2",
   "metadata": {},
   "outputs": [
    {
     "name": "stdout",
     "output_type": "stream",
     "text": [
      "New method\n",
      "Init method\n"
     ]
    }
   ],
   "source": [
    "#10\n",
    "class Test:\n",
    "    def __new__(cls):\n",
    "        print(\"New method\")\n",
    "        return super().__new__(cls)\n",
    "\n",
    "    def __init__(self):\n",
    "        print(\"Init method\")\n",
    "\n",
    "obj = Test()"
   ]
  },
  {
   "cell_type": "code",
   "execution_count": null,
   "id": "369fde82",
   "metadata": {},
   "outputs": [],
   "source": [
    "# 11\n",
    "# class attribute are specifiic to each object"
   ]
  },
  {
   "cell_type": "code",
   "execution_count": null,
   "id": "6fad25bf",
   "metadata": {},
   "outputs": [],
   "source": [
    "#12\n",
    "#inheritance"
   ]
  },
  {
   "cell_type": "code",
   "execution_count": null,
   "id": "177144ba",
   "metadata": {},
   "outputs": [],
   "source": [
    "#13\n",
    "# multiple inheritance can cause the diamond problem"
   ]
  },
  {
   "cell_type": "code",
   "execution_count": null,
   "id": "e6292ac7",
   "metadata": {},
   "outputs": [],
   "source": [
    "#14\n",
    "# a overridden"
   ]
  },
  {
   "cell_type": "code",
   "execution_count": null,
   "id": "188673d9",
   "metadata": {},
   "outputs": [],
   "source": [
    "#15\n",
    "# Creating multiple methods with the same name but different parameters"
   ]
  },
  {
   "cell_type": "code",
   "execution_count": null,
   "id": "9effd086",
   "metadata": {},
   "outputs": [],
   "source": [
    "#16\n",
    "# To call methods or constructors from the parent class"
   ]
  },
  {
   "cell_type": "code",
   "execution_count": null,
   "id": "690f4382",
   "metadata": {},
   "outputs": [],
   "source": [
    "#17\n",
    "# a situation where two parent classes have methods with the same name, leading to ambiguity."
   ]
  },
  {
   "cell_type": "code",
   "execution_count": null,
   "id": "9476ee1d",
   "metadata": {},
   "outputs": [],
   "source": [
    "#18\n",
    "# The method from the first parent class listed in the inheritance order"
   ]
  },
  {
   "cell_type": "code",
   "execution_count": null,
   "id": "9096dc21",
   "metadata": {},
   "outputs": [],
   "source": [
    "#19\n",
    "# The base class constructor is called automatically."
   ]
  },
  {
   "cell_type": "code",
   "execution_count": null,
   "id": "2e8e3fe5",
   "metadata": {},
   "outputs": [],
   "source": [
    "#20\n",
    "# is compares the memory addresses, while == compares the values."
   ]
  }
 ],
 "metadata": {
  "kernelspec": {
   "display_name": "Python 3",
   "language": "python",
   "name": "python3"
  },
  "language_info": {
   "codemirror_mode": {
    "name": "ipython",
    "version": 3
   },
   "file_extension": ".py",
   "mimetype": "text/x-python",
   "name": "python",
   "nbconvert_exporter": "python",
   "pygments_lexer": "ipython3",
   "version": "3.11.5"
  }
 },
 "nbformat": 4,
 "nbformat_minor": 5
}
