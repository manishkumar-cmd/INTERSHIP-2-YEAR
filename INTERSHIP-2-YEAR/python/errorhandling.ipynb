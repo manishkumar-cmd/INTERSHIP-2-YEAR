{
 "cells": [
  {
   "cell_type": "code",
   "execution_count": 2,
   "id": "865236e1",
   "metadata": {},
   "outputs": [],
   "source": [
    "try:\n",
    "    pass\n",
    "except:\n",
    "    pass\n",
    "else:\n",
    "    pass\n",
    "finally:\n",
    "    pass"
   ]
  },
  {
   "cell_type": "code",
   "execution_count": 3,
   "id": "864f4b59",
   "metadata": {},
   "outputs": [],
   "source": [
    "try:\n",
    "    #main code\n",
    "    pass\n",
    "except:\n",
    "    #exception code\n",
    "    pass\n",
    "else:\n",
    "    #else code\n",
    "    pass\n",
    "finally:\n",
    "    pass\n",
    "    #finaly code"
   ]
  },
  {
   "cell_type": "code",
   "execution_count": 4,
   "id": "926cf6b5",
   "metadata": {},
   "outputs": [
    {
     "name": "stdout",
     "output_type": "stream",
     "text": [
      "cant divide\n"
     ]
    }
   ],
   "source": [
    "try:\n",
    "    x = 10/0\n",
    "except ZeroDivisionError:\n",
    "    print(\"cant divide\")"
   ]
  },
  {
   "cell_type": "code",
   "execution_count": 6,
   "id": "3985d662",
   "metadata": {},
   "outputs": [
    {
     "name": "stdout",
     "output_type": "stream",
     "text": [
      "error 444 division by zero\n"
     ]
    }
   ],
   "source": [
    "try:\n",
    "    x = 10/0\n",
    "except Exception as e:\n",
    "    print(\"error 444\",e)"
   ]
  },
  {
   "cell_type": "code",
   "execution_count": 9,
   "id": "22f42997",
   "metadata": {},
   "outputs": [
    {
     "name": "stdout",
     "output_type": "stream",
     "text": [
      "result 10.0\n",
      "this will always run\n"
     ]
    }
   ],
   "source": [
    "try:\n",
    "    num=int(input(\"enter no. 1\"))\n",
    "    result=10/num\n",
    "except ZeroDivisionError:\n",
    "    print(\"cant divide by Zero\")\n",
    "    \n",
    "except ValueError:\n",
    "    print(\"invalide input , plz enter number\")\n",
    "    \n",
    "else:\n",
    "    print(\"result\",result)\n",
    "    \n",
    "finally:\n",
    "    print(\"this will always run\")\n",
    "    "
   ]
  },
  {
   "cell_type": "code",
   "execution_count": 10,
   "id": "d7cdcf76",
   "metadata": {},
   "outputs": [
    {
     "name": "stdout",
     "output_type": "stream",
     "text": [
      "result 5.0\n",
      "this will always run\n"
     ]
    }
   ],
   "source": [
    "try:\n",
    "    num=int(input(\"enter no. 1\"))\n",
    "    result=10/num\n",
    "except (ValueError,ZeroDivisionError) as e:\n",
    "    print(\"Error 444 , e\")\n",
    "    \n",
    "except ValueError:\n",
    "    print(\"invalide input , plz enter number\")\n",
    "    \n",
    "else:\n",
    "    print(\"result\",result)\n",
    "    \n",
    "finally:\n",
    "    print(\"this will always run\")"
   ]
  },
  {
   "cell_type": "markdown",
   "id": "d56ab8c0",
   "metadata": {},
   "source": [
    "RAISING CUSTOM EXCEPTION"
   ]
  },
  {
   "cell_type": "code",
   "execution_count": 13,
   "id": "cc338004",
   "metadata": {},
   "outputs": [
    {
     "name": "stdout",
     "output_type": "stream",
     "text": [
      "you r good to go\n"
     ]
    }
   ],
   "source": [
    "def check_age(age):\n",
    "    if age < 18:\n",
    "        raise ValueError(\"min 18+\")\n",
    "    else:\n",
    "        print(\"you r good to go\")\n",
    "try:\n",
    "    check_age(22)\n",
    "except ValueError as e:\n",
    "    print(e)\n",
    "            "
   ]
  },
  {
   "cell_type": "markdown",
   "id": "aacab409",
   "metadata": {},
   "source": []
  }
 ],
 "metadata": {
  "kernelspec": {
   "display_name": "Python 3",
   "language": "python",
   "name": "python3"
  },
  "language_info": {
   "codemirror_mode": {
    "name": "ipython",
    "version": 3
   },
   "file_extension": ".py",
   "mimetype": "text/x-python",
   "name": "python",
   "nbconvert_exporter": "python",
   "pygments_lexer": "ipython3",
   "version": "3.11.5"
  }
 },
 "nbformat": 4,
 "nbformat_minor": 5
}
