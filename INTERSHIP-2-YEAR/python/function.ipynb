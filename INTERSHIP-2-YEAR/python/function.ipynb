{
 "cells": [
  {
   "cell_type": "markdown",
   "id": "99d99814",
   "metadata": {},
   "source": [
    "FUNCTION"
   ]
  },
  {
   "cell_type": "code",
   "execution_count": 6,
   "id": "f7c23f01",
   "metadata": {},
   "outputs": [
    {
     "name": "stdout",
     "output_type": "stream",
     "text": [
      "kesi h kela khayegi\n"
     ]
    }
   ],
   "source": [
    "def temp():\n",
    "    print(\"kesi h kela khayegi\")\n",
    "temp()"
   ]
  },
  {
   "cell_type": "code",
   "execution_count": 15,
   "id": "51aaa916",
   "metadata": {},
   "outputs": [],
   "source": [
    "def temp(a,b):\n",
    "    print(a+b)\n",
    "\n",
    "\n",
    "   "
   ]
  },
  {
   "cell_type": "markdown",
   "id": "df50e7c8",
   "metadata": {},
   "source": [
    "Write a function that uses a while loop to print numbers from 1 to n."
   ]
  },
  {
   "cell_type": "code",
   "execution_count": 16,
   "id": "4126e216",
   "metadata": {},
   "outputs": [],
   "source": [
    "def print_numbers_upto_n(n):\n",
    "    i = 1\n",
    "    while i <= n:\n",
    "        print(i)\n",
    "        i += 1\n"
   ]
  },
  {
   "cell_type": "markdown",
   "id": "826000e1",
   "metadata": {},
   "source": [
    "Write a function that counts the number of vowels in a string"
   ]
  },
  {
   "cell_type": "code",
   "execution_count": 1,
   "id": "6cc98ecd",
   "metadata": {},
   "outputs": [],
   "source": [
    "def count_vowels(s):\n",
    "    vowels = \"aeiouAEIOU\"\n",
    "    count = 0\n",
    "    for char in s:\n",
    "        if char in vowels:\n",
    "            count += 1\n",
    "    return count\n"
   ]
  },
  {
   "cell_type": "markdown",
   "id": "30729ed9",
   "metadata": {},
   "source": []
  }
 ],
 "metadata": {
  "kernelspec": {
   "display_name": "Python 3",
   "language": "python",
   "name": "python3"
  },
  "language_info": {
   "codemirror_mode": {
    "name": "ipython",
    "version": 3
   },
   "file_extension": ".py",
   "mimetype": "text/x-python",
   "name": "python",
   "nbconvert_exporter": "python",
   "pygments_lexer": "ipython3",
   "version": "3.11.5"
  }
 },
 "nbformat": 4,
 "nbformat_minor": 5
}
