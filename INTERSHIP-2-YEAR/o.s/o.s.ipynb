{
 "cells": [
  {
   "cell_type": "markdown",
   "id": "fab4963e",
   "metadata": {},
   "source": [
    "OS"
   ]
  },
  {
   "cell_type": "code",
   "execution_count": 4,
   "id": "eba5ae00",
   "metadata": {},
   "outputs": [],
   "source": [
    "import os  #opreting system module and import is keyword"
   ]
  },
  {
   "cell_type": "code",
   "execution_count": 6,
   "id": "edcf5a03",
   "metadata": {},
   "outputs": [
    {
     "name": "stdout",
     "output_type": "stream",
     "text": [
      "current working directory is:-  c:\\Users\\jangi\\OneDrive\\Desktop\\D.S. internship\\o.s\n"
     ]
    }
   ],
   "source": [
    "folder_path=os.getcwd() # current working directory\n",
    "print(\"current working directory is:- \",folder_path)"
   ]
  },
  {
   "cell_type": "code",
   "execution_count": 18,
   "id": "7991e449",
   "metadata": {},
   "outputs": [
    {
     "name": "stdout",
     "output_type": "stream",
     "text": [
      "total ['Arpita jangir', 'arpita2.html', 'CSIT_(R22)_3-1_DATA SCIENCE_DIGITAL NOTES.pdf', 'D.S. internship', 'DA.pdf', 'DATA STRUCTURES USING-18.pdf', 'DA_Keys.pdf', 'DBMS', 'DBMS UNI', 'desktop.ini', 'fcp.pdf', 'for website', 'GATE _DA_2025_Syllabus.pdf', 'GATE2024DataScienceAIsyllabus.pdf', 'IMP . BTECH 3 SEM 2025 {OWN RISK}.pptx', 'Introduction to Datascience.pdf', 'Java Programming.pdf', 'LAVA', 'MinGW Installer.lnk', 'Monkeytype.lnk', 'mpi imp.pdf', 'mpi.pdf', 'Odoo.lnk', 'PYTHON PROGRAMMING NOTES.pdf', 'SE Notes Complete.pdf', 'sofware engi 1.pdf', 'THE - Chrome.lnk', 'TOC', 'v.html', 'Visual Studio Code.lnk', 'vivo', 'YouTube Music.lnk', 'YouTube.lnk']\n"
     ]
    }
   ],
   "source": [
    "total_file=os.listdir(r\"\\Users\\jangi\\OneDrive\\Desktop\")\n",
    "print(\"total\",total_file)"
   ]
  },
  {
   "cell_type": "code",
   "execution_count": 19,
   "id": "9e18052a",
   "metadata": {},
   "outputs": [
    {
     "name": "stdout",
     "output_type": "stream",
     "text": [
      "folder is created\n"
     ]
    }
   ],
   "source": [
    "os.mkdir(\"Demo\")\n",
    "print(\"folder is created\")"
   ]
  },
  {
   "cell_type": "code",
   "execution_count": 20,
   "id": "efecdd82",
   "metadata": {},
   "outputs": [
    {
     "name": "stdout",
     "output_type": "stream",
     "text": [
      "total ['Demo', 'o.s.ipynb']\n"
     ]
    }
   ],
   "source": [
    "total_file=os.listdir()\n",
    "print(\"total\",total_file)"
   ]
  },
  {
   "cell_type": "code",
   "execution_count": 21,
   "id": "a6f2b561",
   "metadata": {},
   "outputs": [
    {
     "name": "stdout",
     "output_type": "stream",
     "text": [
      "renamed succeded\n"
     ]
    }
   ],
   "source": [
    "os.rename(\"Demo\",\"data science\")\n",
    "print(\"renamed succeded\")"
   ]
  },
  {
   "cell_type": "code",
   "execution_count": 22,
   "id": "81469629",
   "metadata": {},
   "outputs": [
    {
     "name": "stdout",
     "output_type": "stream",
     "text": [
      "total ['data science', 'o.s.ipynb']\n"
     ]
    }
   ],
   "source": [
    "total_file=os.listdir()\n",
    "print(\"total\",total_file)"
   ]
  },
  {
   "cell_type": "code",
   "execution_count": 23,
   "id": "fafa1755",
   "metadata": {},
   "outputs": [
    {
     "name": "stdout",
     "output_type": "stream",
     "text": [
      "folder removed\n"
     ]
    }
   ],
   "source": [
    "os.rmdir(\"data science\")\n",
    "print(\"folder removed\")"
   ]
  },
  {
   "cell_type": "code",
   "execution_count": 24,
   "id": "89a386db",
   "metadata": {},
   "outputs": [
    {
     "name": "stdout",
     "output_type": "stream",
     "text": [
      "total ['o.s.ipynb']\n"
     ]
    }
   ],
   "source": [
    "total_file=os.listdir()\n",
    "print(\"total\",total_file)"
   ]
  },
  {
   "cell_type": "code",
   "execution_count": 25,
   "id": "f70a5e55",
   "metadata": {},
   "outputs": [],
   "source": [
    "# os.remove(\"file_name/file ka path\")  ##removes file from directory"
   ]
  },
  {
   "cell_type": "code",
   "execution_count": 27,
   "id": "3d5ab0a9",
   "metadata": {},
   "outputs": [
    {
     "name": "stdout",
     "output_type": "stream",
     "text": [
      "path exist:: None\n"
     ]
    }
   ],
   "source": [
    "path=r\"c:\\Users\\jangi\\OneDrive\\Desktop\\D.S. internship\\o.s\"\n",
    "path=os.environ.get(path)\n",
    "print(\"path exist::\",path)"
   ]
  },
  {
   "cell_type": "code",
   "execution_count": null,
   "id": "0daba680",
   "metadata": {},
   "outputs": [
    {
     "data": {
      "text/plain": [
       "1"
      ]
     },
     "execution_count": 29,
     "metadata": {},
     "output_type": "execute_result"
    }
   ],
   "source": [
    "os.system(r\"c:\\Users\\jangi\\OneDrive\\Desktop\\D.S. internship\\o.s\")#system command"
   ]
  },
  {
   "cell_type": "code",
   "execution_count": 32,
   "id": "03cc6562",
   "metadata": {},
   "outputs": [
    {
     "data": {
      "text/plain": [
       "'c:\\\\Users\\\\jangi\\\\OneDrive\\\\Desktop\\\\D.S. internship\\\\o.s'"
      ]
     },
     "execution_count": 32,
     "metadata": {},
     "output_type": "execute_result"
    }
   ],
   "source": [
    "os.getcwd()"
   ]
  },
  {
   "cell_type": "code",
   "execution_count": 33,
   "id": "718c6d13",
   "metadata": {},
   "outputs": [
    {
     "data": {
      "text/plain": [
       "False"
      ]
     },
     "execution_count": 33,
     "metadata": {},
     "output_type": "execute_result"
    }
   ],
   "source": [
    "# for file\n",
    "os.path.isfile(r\"c:\\Users\\jangi\\OneDrive\\Desktop\\D.S. internship\\o.s\")"
   ]
  },
  {
   "cell_type": "markdown",
   "id": "94be0066",
   "metadata": {},
   "source": [
    "for directory"
   ]
  },
  {
   "cell_type": "code",
   "execution_count": 34,
   "id": "f8ddd995",
   "metadata": {},
   "outputs": [
    {
     "data": {
      "text/plain": [
       "True"
      ]
     },
     "execution_count": 34,
     "metadata": {},
     "output_type": "execute_result"
    }
   ],
   "source": [
    "os.path.isdir(r\"c:\\Users\\jangi\\OneDrive\\Desktop\\D.S. internship\\o.s\")"
   ]
  },
  {
   "cell_type": "code",
   "execution_count": 35,
   "id": "fdbf180f",
   "metadata": {},
   "outputs": [
    {
     "data": {
      "text/plain": [
       "False"
      ]
     },
     "execution_count": 35,
     "metadata": {},
     "output_type": "execute_result"
    }
   ],
   "source": [
    "os.path.isdir(r\"c:\\Users\\jangi\\OneDrive\\Desktop\\D.S. internship\\o.s\\raja\")"
   ]
  },
  {
   "cell_type": "code",
   "execution_count": 37,
   "id": "4fcb5ce3",
   "metadata": {},
   "outputs": [
    {
     "name": "stdout",
     "output_type": "stream",
     "text": [
      "full way c:\\Users\\jangi\\OneDrive\\Desktop\\D.S. internship\\o.s\n",
      "u r list ['o.s.ipynb']\n"
     ]
    }
   ],
   "source": [
    "path1=r\"c:\\Users\\jangi\\OneDrive\"\n",
    "path2=r\"Desktop\\D.S. internship\\o.s\"\n",
    "complete_path=os.path.join(path1,path2)\n",
    "print(\"full way\",complete_path)\n",
    "print(\"u r list\",os.listdir(complete_path))"
   ]
  },
  {
   "cell_type": "code",
   "execution_count": 38,
   "id": "affa8099",
   "metadata": {},
   "outputs": [
    {
     "name": "stdout",
     "output_type": "stream",
     "text": [
      "folder size::: 12288\n"
     ]
    }
   ],
   "source": [
    "path =r\"c:\\Users\\jangi\\OneDrive\\Desktop\"\n",
    "size=os.path.getsize(path)\n",
    "print(\"folder size:::\",size)"
   ]
  },
  {
   "cell_type": "markdown",
   "id": "89725598",
   "metadata": {},
   "source": [
    "lambda fxn / anonymous fxn "
   ]
  },
  {
   "cell_type": "code",
   "execution_count": 41,
   "id": "e06a56e7",
   "metadata": {},
   "outputs": [
    {
     "name": "stdout",
     "output_type": "stream",
     "text": [
      "100\n"
     ]
    }
   ],
   "source": [
    "add = lambda x , y : x+y\n",
    "print(add(2,98))"
   ]
  },
  {
   "cell_type": "code",
   "execution_count": 44,
   "id": "423af5d6",
   "metadata": {},
   "outputs": [
    {
     "data": {
      "text/plain": [
       "25"
      ]
     },
     "execution_count": 44,
     "metadata": {},
     "output_type": "execute_result"
    }
   ],
   "source": [
    "square = lambda x:x**2\n",
    "square(5)"
   ]
  },
  {
   "cell_type": "code",
   "execution_count": 45,
   "id": "17bdd559",
   "metadata": {},
   "outputs": [],
   "source": [
    "lst =[\"man\",\"nish\",\"raj\",\"bheem\"]\n",
    "itar=iter(lst)\n"
   ]
  },
  {
   "cell_type": "code",
   "execution_count": 46,
   "id": "6a942bef",
   "metadata": {},
   "outputs": [
    {
     "data": {
      "text/plain": [
       "'man'"
      ]
     },
     "execution_count": 46,
     "metadata": {},
     "output_type": "execute_result"
    }
   ],
   "source": [
    "next(itar)"
   ]
  },
  {
   "cell_type": "code",
   "execution_count": 48,
   "id": "22d525e3",
   "metadata": {},
   "outputs": [
    {
     "name": "stdout",
     "output_type": "stream",
     "text": [
      "man nish raj bheem "
     ]
    }
   ],
   "source": [
    "for x in lst :\n",
    "    print(x,end=\" \")"
   ]
  }
 ],
 "metadata": {
  "kernelspec": {
   "display_name": "Python 3",
   "language": "python",
   "name": "python3"
  },
  "language_info": {
   "codemirror_mode": {
    "name": "ipython",
    "version": 3
   },
   "file_extension": ".py",
   "mimetype": "text/x-python",
   "name": "python",
   "nbconvert_exporter": "python",
   "pygments_lexer": "ipython3",
   "version": "3.11.5"
  }
 },
 "nbformat": 4,
 "nbformat_minor": 5
}
