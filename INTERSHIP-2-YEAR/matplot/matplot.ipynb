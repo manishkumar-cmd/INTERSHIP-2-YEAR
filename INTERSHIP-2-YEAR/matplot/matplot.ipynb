{
 "cells": [
  {
   "cell_type": "code",
   "execution_count": null,
   "id": "159c3687",
   "metadata": {},
   "outputs": [],
   "source": [
    "import matplotlib.pyplot as plt"
   ]
  },
  {
   "cell_type": "code",
   "execution_count": null,
   "id": "d43c7791",
   "metadata": {},
   "outputs": [],
   "source": [
    "import numpy as np\n",
    "import pandas as pd"
   ]
  },
  {
   "cell_type": "markdown",
   "id": "1f80179b",
   "metadata": {},
   "source": [
    "GRAPH   "
   ]
  },
  {
   "cell_type": "code",
   "execution_count": null,
   "id": "1d007f13",
   "metadata": {},
   "outputs": [],
   "source": [
    "y_point=np.array([2,4,6,8])\n",
    "x_point=np.array([1,2,3,4])\n",
    "plt.plot(x_point,'o:b')\n",
    "plt.show()\n"
   ]
  },
  {
   "cell_type": "code",
   "execution_count": null,
   "id": "f3c01265",
   "metadata": {},
   "outputs": [],
   "source": [
    "x_point=np.array([1,2,3,4])\n",
    "plt.plot(x_point,'o:b')\n",
    "plt.show()\n"
   ]
  },
  {
   "cell_type": "code",
   "execution_count": null,
   "id": "dd7efa90",
   "metadata": {},
   "outputs": [],
   "source": [
    "x_point=np.array([1,2,3,4])\n",
    "plt.plot(x_point,marker='o',ms=30)\n",
    "plt.show()"
   ]
  },
  {
   "cell_type": "code",
   "execution_count": null,
   "id": "3e67fa64",
   "metadata": {},
   "outputs": [],
   "source": [
    "x_point=np.array([1,2,3,4])\n",
    "plt.plot(x_point,marker='*',ms=30)\n",
    "plt.show()"
   ]
  },
  {
   "cell_type": "code",
   "execution_count": null,
   "id": "39c8d75f",
   "metadata": {},
   "outputs": [],
   "source": [
    "x_point=np.array([1,2,3,4])\n",
    "plt.plot(x_point,marker='*',ms=30,mec='r')\n",
    "plt.show()"
   ]
  },
  {
   "cell_type": "code",
   "execution_count": null,
   "id": "49b8b723",
   "metadata": {},
   "outputs": [],
   "source": [
    "x_point=np.array([1,2,3,4])\n",
    "plt.plot(x_point,marker='*',ms=30,mec='r',mfc='g')\n",
    "plt.show()"
   ]
  },
  {
   "cell_type": "code",
   "execution_count": null,
   "id": "800b8a1d",
   "metadata": {},
   "outputs": [],
   "source": [
    "x_point=np.array([1,2,3,4])\n",
    "plt.plot(x_point,ls='dotted')\n",
    "plt.show()"
   ]
  },
  {
   "cell_type": "code",
   "execution_count": null,
   "id": "92a4dfd6",
   "metadata": {},
   "outputs": [],
   "source": [
    "x_point=np.array([1,2,3,4])\n",
    "plt.plot(x_point,linewidth='4')\n",
    "plt.show()"
   ]
  },
  {
   "cell_type": "code",
   "execution_count": null,
   "id": "ad440345",
   "metadata": {},
   "outputs": [],
   "source": [
    "y_point=np.array([2,4,9,8])\n",
    "x_point=np.array([1,2,3,4])\n",
    "plt.plot(x_point)\n",
    "plt.plot(y_point)\n",
    "plt.show()\n"
   ]
  },
  {
   "cell_type": "code",
   "execution_count": null,
   "id": "f5e4cd64",
   "metadata": {},
   "outputs": [],
   "source": [
    "y_point=np.array([2,4,9,8])\n",
    "x_point=np.array([1,2,3,4])\n",
    "plt.xlabel(\"xpoints \")\n",
    "plt.ylabel(\"ypoints \")\n",
    "plt.title(\"matplot chal RAHA h\")\n",
    "plt.plot(x_point)\n",
    "plt.plot(y_point)\n",
    "plt.show()"
   ]
  },
  {
   "cell_type": "code",
   "execution_count": null,
   "id": "95b119ac",
   "metadata": {},
   "outputs": [],
   "source": [
    "y_point=np.array([2,4,9,8])\n",
    "x_point=np.array([1,2,3,4])\n",
    "plt.xlabel(\"xpoints \")\n",
    "plt.ylabel(\"ypoints \")\n",
    "plt.title(\"matplot chal RAHA h\")\n",
    "plt.grid(\"\")\n",
    "plt.plot(x_point)\n",
    "plt.plot(y_point)\n",
    "plt.show()"
   ]
  },
  {
   "cell_type": "code",
   "execution_count": null,
   "id": "8620490c",
   "metadata": {},
   "outputs": [],
   "source": [
    "x=np.array([1,2,3,4,5])\n",
    "y=np.array([9,8,7,6,5])\n",
    "plt.subplot(1,2,1)\n",
    "plt.plot(x , y )\n",
    "x=np.array([1,2,3,4,5])\n",
    "y=np.array([9,8,7,6,5])\n",
    "plt.subplot(1,2,2)\n",
    "plt.plot(x , y )\n",
    "plt.show()\n",
    "\n",
    "\n"
   ]
  },
  {
   "cell_type": "code",
   "execution_count": null,
   "id": "ca018906",
   "metadata": {},
   "outputs": [],
   "source": [
    "x=np.array([1,2,3,4,5])\n",
    "y=np.array([5,4,3,2,1])\n",
    "plt.scatter(x,y)\n",
    "colour=np.array([\"red\" ,\"green\",\"pink\"])\n",
    "plt.scatter(x1,y1,colour)\n",
    "plt.show()"
   ]
  },
  {
   "cell_type": "code",
   "execution_count": 39,
   "id": "42185e58",
   "metadata": {},
   "outputs": [
    {
     "name": "stderr",
     "output_type": "stream",
     "text": [
      "C:\\Users\\jangi\\AppData\\Local\\Temp\\ipykernel_4092\\249001520.py:5: UserWarning: No data for colormapping provided via 'c'. Parameters 'cmap' will be ignored\n",
      "  plt.scatter(x, y,alpha=0.5, s = sizes, c = c ,cmap= \"coolwarmer\")\n"
     ]
    },
    {
     "data": {
      "image/png": "[encoded data removed]",
      "text/plain": [
       "<Figure size 640x480 with 2 Axes>"
      ]
     },
     "metadata": {},
     "output_type": "display_data"
    }
   ],
   "source": [
    "x = np.array([5,7,8,7,2,17,2,9,4,11,12,9,6])\n",
    "y = np.array([99,86,87,88,111,86,103,87,94,78,77,85,86])\n",
    "sizes = np.array([20,50,100,200,500,1000,60,90,10,300,600,800,75])\n",
    "c = np.array(['red', 'green', 'blue', 'yellow', 'cyan', 'magenta', 'black', 'orange', 'red', 'green', 'blue', 'yellow', 'cyan'])\n",
    "plt.scatter(x, y,alpha=0.5, s = sizes, c = c ,cmap= \"coolwarmer\")\n",
    "plt.colorbar()\n",
    "plt.show()"
   ]
  },
  {
   "cell_type": "code",
   "execution_count": null,
   "id": "d762d960",
   "metadata": {},
   "outputs": [],
   "source": []
  }
 ],
 "metadata": {
  "kernelspec": {
   "display_name": "Python 3",
   "language": "python",
   "name": "python3"
  },
  "language_info": {
   "codemirror_mode": {
    "name": "ipython",
    "version": 3
   },
   "file_extension": ".py",
   "mimetype": "text/x-python",
   "name": "python",
   "nbconvert_exporter": "python",
   "pygments_lexer": "ipython3",
   "version": "3.11.5"
  }
 },
 "nbformat": 4,
 "nbformat_minor": 5
}
